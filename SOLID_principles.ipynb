{
  "nbformat": 4,
  "nbformat_minor": 0,
  "metadata": {
    "colab": {
      "provenance": []
    },
    "kernelspec": {
      "name": "python3",
      "display_name": "Python 3"
    },
    "language_info": {
      "name": "python"
    }
  },
  "cells": [
    {
      "cell_type": "markdown",
      "source": [
        "# SOLID PRINCIPLES"
      ],
      "metadata": {
        "id": "AFgPNXkr_2i5"
      }
    },
    {
      "cell_type": "markdown",
      "source": [
        "## SINGLE RESPONSIBILITY - BEFORE"
      ],
      "metadata": {
        "id": "uPiaxTUC_88A"
      }
    },
    {
      "cell_type": "code",
      "execution_count": 1,
      "metadata": {
        "colab": {
          "base_uri": "https://localhost:8080/"
        },
        "id": "xSkECiU7OqCK",
        "outputId": "edb7dc08-8e7a-409e-c0ef-10d9c2f1801e"
      },
      "outputs": [
        {
          "output_type": "stream",
          "name": "stdout",
          "text": [
            "210\n",
            "Processing debit payment type\n",
            "Verifying security code: 0372846\n"
          ]
        }
      ],
      "source": [
        "class Order:\n",
        "\n",
        "    def __init__(self):\n",
        "        self.items = []\n",
        "        self.quantities = []\n",
        "        self.prices = []\n",
        "        self.status = \"open\"\n",
        "\n",
        "    def add_item(self, name, quantity, price):\n",
        "        self.items.append(name)\n",
        "        self.quantities.append(quantity)\n",
        "        self.prices.append(price)\n",
        "\n",
        "    def total_price(self):\n",
        "        total = 0\n",
        "        for i in range(len(self.prices)):\n",
        "            total += self.quantities[i] * self.prices[i]\n",
        "        return total\n",
        "\n",
        "    def pay(self, payment_type, security_code):\n",
        "        if payment_type == \"debit\":\n",
        "            print(\"Processing debit payment type\")\n",
        "            print(f\"Verifying security code: {security_code}\")\n",
        "            self.status = \"paid\"\n",
        "        elif payment_type == \"credit\":\n",
        "            print(\"Processing credit payment type\")\n",
        "            print(f\"Verifying security code: {security_code}\")\n",
        "            self.status = \"paid\"\n",
        "        else:\n",
        "            raise Exception(f\"Unknown payment type: {payment_type}\")\n",
        "\n",
        "order = Order()\n",
        "order.add_item(\"Keyboard\", 1, 50)\n",
        "order.add_item(\"SSD\", 1, 150)\n",
        "order.add_item(\"USB cable\", 2, 5)\n",
        "\n",
        "print(order.total_price())\n",
        "order.pay(\"debit\", \"0372846\")"
      ]
    },
    {
      "cell_type": "markdown",
      "source": [
        "## SINGLE RESPONSIBILITY - AFTER"
      ],
      "metadata": {
        "id": "nDAB01alAcln"
      }
    },
    {
      "cell_type": "code",
      "source": [
        "class Order:\n",
        "\n",
        "    def __init__(self):\n",
        "        self.items = []\n",
        "        self.quantities = []\n",
        "        self.prices = []\n",
        "        self.status = \"open\"\n",
        "\n",
        "    def add_item(self, name, quantity, price):\n",
        "        self.items.append(name)\n",
        "        self.quantities.append(quantity)\n",
        "        self.prices.append(price)\n",
        "\n",
        "    def total_price(self):\n",
        "        total = 0\n",
        "        for i in range(len(self.prices)):\n",
        "            total += self.quantities[i] * self.prices[i]\n",
        "        return total\n",
        "\n",
        "\n",
        "class PaymentProcessor():\n",
        "    def pay_debit(self, order, security_code):\n",
        "      print(\"Processing debit payment type\")\n",
        "      print(f\"Verifying security code: {security_code}\")\n",
        "      order.status = \"paid\"\n",
        "    \n",
        "\n",
        "    def pay_credit(self, order, security_code):\n",
        "      print(\"Processing credit payment type\")\n",
        "      print(f\"Verifying security code: {security_code}\")\n",
        "      order.status = \"paid\"\n",
        "\n",
        "\n",
        "order = Order()\n",
        "order.add_item(\"Keyboard\", 1, 50)\n",
        "order.add_item(\"SSD\", 1, 150)\n",
        "order.add_item(\"USB cable\", 2, 5)\n",
        "\n",
        "print(order.total_price())\n",
        "processor = PaymentProcessor()\n",
        "processor.pay_debit(order, \"0372846\")"
      ],
      "metadata": {
        "colab": {
          "base_uri": "https://localhost:8080/"
        },
        "id": "vzBcGBWLAbw7",
        "outputId": "50a0a2cd-2177-417e-fb78-2bfa5b6d51eb"
      },
      "execution_count": 4,
      "outputs": [
        {
          "output_type": "stream",
          "name": "stdout",
          "text": [
            "210\n",
            "Processing debit payment type\n",
            "Verifying security code: 0372846\n"
          ]
        }
      ]
    },
    {
      "cell_type": "markdown",
      "source": [
        "## OPEN/CLOSED - Before"
      ],
      "metadata": {
        "id": "Ar7pxKfTCmXF"
      }
    },
    {
      "cell_type": "code",
      "source": [
        "class Order:\n",
        "\n",
        "    def __init__(self):\n",
        "        self.items = []\n",
        "        self.quantities = []\n",
        "        self.prices = []\n",
        "        self.status = \"open\"\n",
        "\n",
        "    def add_item(self, name, quantity, price):\n",
        "        self.items.append(name)\n",
        "        self.quantities.append(quantity)\n",
        "        self.prices.append(price)\n",
        "\n",
        "    def total_price(self):\n",
        "        total = 0\n",
        "        for i in range(len(self.prices)):\n",
        "            total += self.quantities[i] * self.prices[i]\n",
        "        return total\n",
        "\n",
        "\n",
        "class PaymentProcessor():\n",
        "    def pay_debit(self, order, security_code):\n",
        "      print(\"Processing debit payment type\")\n",
        "      print(f\"Verifying security code: {security_code}\")\n",
        "      order.status = \"paid\"\n",
        "    \n",
        "\n",
        "    def pay_credit(self, order, security_code):\n",
        "      print(\"Processing credit payment type\")\n",
        "      print(f\"Verifying security code: {security_code}\")\n",
        "      order.status = \"paid\"\n",
        "\n",
        "\n",
        "order = Order()\n",
        "order.add_item(\"Keyboard\", 1, 50)\n",
        "order.add_item(\"SSD\", 1, 150)\n",
        "order.add_item(\"USB cable\", 2, 5)\n",
        "\n",
        "print(order.total_price())\n",
        "processor = PaymentProcessor()\n",
        "processor.pay_debit(order, \"0372846\")"
      ],
      "metadata": {
        "colab": {
          "base_uri": "https://localhost:8080/"
        },
        "id": "Cx5PjJXZCtl7",
        "outputId": "db2f2be0-bb22-4e27-efc0-6851a2fbe852"
      },
      "execution_count": 5,
      "outputs": [
        {
          "output_type": "stream",
          "name": "stdout",
          "text": [
            "210\n",
            "Processing debit payment type\n",
            "Verifying security code: 0372846\n"
          ]
        }
      ]
    },
    {
      "cell_type": "markdown",
      "source": [
        "## OPEN/CLOSED - After"
      ],
      "metadata": {
        "id": "s-5xGZjlC2YI"
      }
    },
    {
      "cell_type": "code",
      "source": [
        "from abc import ABC, abstractmethod"
      ],
      "metadata": {
        "id": "Z3aQzzPoDOMI"
      },
      "execution_count": 6,
      "outputs": []
    },
    {
      "cell_type": "code",
      "source": [
        "class Order:\n",
        "\n",
        "    def __init__(self):\n",
        "        self.items = []\n",
        "        self.quantities = []\n",
        "        self.prices = []\n",
        "        self.status = \"open\"\n",
        "\n",
        "    def add_item(self, name, quantity, price):\n",
        "        self.items.append(name)\n",
        "        self.quantities.append(quantity)\n",
        "        self.prices.append(price)\n",
        "\n",
        "    def total_price(self):\n",
        "        total = 0\n",
        "        for i in range(len(self.prices)):\n",
        "            total += self.quantities[i] * self.prices[i]\n",
        "        return total\n",
        "\n",
        "\n",
        "class PaymentProcessor(ABC):\n",
        "    @abstractmethod\n",
        "    def pay(self, order, security_code):\n",
        "      pass\n",
        "\n",
        "\n",
        "class DepitPaymentProcessor(PaymentProcessor):\n",
        "    def pay(self, order, security_code):\n",
        "      print(\"Processing debit payment type\")\n",
        "      print(f\"Verifying security code: {security_code}\")\n",
        "      order.status = \"paid\"\n",
        "\n",
        "class CreditPaymentProcessor(PaymentProcessor):\n",
        "    def pay(self, order, security_code):\n",
        "      print(\"Processing credit payment type\")\n",
        "      print(f\"Verifying security code: {security_code}\")\n",
        "      order.status = \"paid\"\n",
        "\n",
        "\n",
        "class PaypalPaymentProcessor(PaymentProcessor):\n",
        "    def pay(self, order, security_code):\n",
        "      print(\"Processing paypal payment type\")\n",
        "      print(f\"Verifying security code: {security_code}\")\n",
        "      order.status = \"paid\"\n",
        "\n",
        "\n",
        "order = Order()\n",
        "order.add_item(\"Keyboard\", 1, 50)\n",
        "order.add_item(\"SSD\", 1, 150)\n",
        "order.add_item(\"USB cable\", 2, 5)\n",
        "\n",
        "print(order.total_price())\n",
        "processor = PaypalPaymentProcessor()\n",
        "processor.pay(order, \"0372846\")"
      ],
      "metadata": {
        "colab": {
          "base_uri": "https://localhost:8080/"
        },
        "id": "psHeM3YZC8Dp",
        "outputId": "2e3fb534-3ae2-407c-c191-2e2511e46650"
      },
      "execution_count": 18,
      "outputs": [
        {
          "output_type": "stream",
          "name": "stdout",
          "text": [
            "210\n",
            "Processing paypal payment type\n",
            "Verifying security code: 0372846\n"
          ]
        }
      ]
    },
    {
      "cell_type": "markdown",
      "source": [
        "## Liskov substitution - Before"
      ],
      "metadata": {
        "id": "MNr0lD1uF_OZ"
      }
    },
    {
      "cell_type": "code",
      "source": [
        "class Order:\n",
        "\n",
        "    def __init__(self):\n",
        "        self.items = []\n",
        "        self.quantities = []\n",
        "        self.prices = []\n",
        "        self.status = \"open\"\n",
        "\n",
        "    def add_item(self, name, quantity, price):\n",
        "        self.items.append(name)\n",
        "        self.quantities.append(quantity)\n",
        "        self.prices.append(price)\n",
        "\n",
        "    def total_price(self):\n",
        "        total = 0\n",
        "        for i in range(len(self.prices)):\n",
        "            total += self.quantities[i] * self.prices[i]\n",
        "        return total\n",
        "\n",
        "\n",
        "class PaymentProcessor(ABC):\n",
        "    @abstractmethod\n",
        "    def pay(self, order, security_code):\n",
        "      pass\n",
        "\n",
        "\n",
        "class DepitPaymentProcessor(PaymentProcessor):\n",
        "    def pay(self, order, security_code):\n",
        "      print(\"Processing debit payment type\")\n",
        "      print(f\"Verifying security code: {security_code}\")\n",
        "      order.status = \"paid\"\n",
        "\n",
        "class CreditPaymentProcessor(PaymentProcessor):\n",
        "    def pay(self, order, security_code):\n",
        "      print(\"Processing credit payment type\")\n",
        "      print(f\"Verifying security code: {security_code}\")\n",
        "      order.status = \"paid\"\n",
        "\n",
        "\n",
        "class PaypalPaymentProcessor(PaymentProcessor):\n",
        "    def pay(self, order, security_code):\n",
        "      print(\"Processing paypal payment type\")\n",
        "      print(f\"Verifying security code: {security_code}\")\n",
        "      order.status = \"paid\"\n",
        "\n",
        "\n",
        "order = Order()\n",
        "order.add_item(\"Keyboard\", 1, 50)\n",
        "order.add_item(\"SSD\", 1, 150)\n",
        "order.add_item(\"USB cable\", 2, 5)\n",
        "\n",
        "print(order.total_price())\n",
        "processor = PaypalPaymentProcessor()\n",
        "processor.pay(order, \"0372846\")"
      ],
      "metadata": {
        "colab": {
          "base_uri": "https://localhost:8080/"
        },
        "id": "mL4IEONXGQTG",
        "outputId": "7f6eeb3d-12d2-49c8-be85-c070f4d54d3a"
      },
      "execution_count": 19,
      "outputs": [
        {
          "output_type": "stream",
          "name": "stdout",
          "text": [
            "210\n",
            "Processing paypal payment type\n",
            "Verifying security code: 0372846\n"
          ]
        }
      ]
    },
    {
      "cell_type": "markdown",
      "source": [
        "## Liskov substitution - After"
      ],
      "metadata": {
        "id": "pIXJSAZhGmds"
      }
    },
    {
      "cell_type": "code",
      "source": [
        "class Order:\n",
        "\n",
        "    def __init__(self):\n",
        "        self.items = []\n",
        "        self.quantities = []\n",
        "        self.prices = []\n",
        "        self.status = \"open\"\n",
        "\n",
        "    def add_item(self, name, quantity, price):\n",
        "        self.items.append(name)\n",
        "        self.quantities.append(quantity)\n",
        "        self.prices.append(price)\n",
        "\n",
        "    def total_price(self):\n",
        "        total = 0\n",
        "        for i in range(len(self.prices)):\n",
        "            total += self.quantities[i] * self.prices[i]\n",
        "        return total\n",
        "\n",
        "\n",
        "class PaymentProcessor(ABC):\n",
        "    @abstractmethod\n",
        "    def pay(self, order):\n",
        "      pass\n",
        "\n",
        "\n",
        "class DepitPaymentProcessor(PaymentProcessor):\n",
        "    def __init__(self, security_code):\n",
        "      self.security_code = security_code\n",
        "\n",
        "\n",
        "    def pay(self, order):\n",
        "      print(\"Processing debit payment type\")\n",
        "      print(f\"Verifying security code: {self.security_code}\")\n",
        "      order.status = \"paid\"\n",
        "\n",
        "\n",
        "class CreditPaymentProcessor(PaymentProcessor):\n",
        "    def __init__(self, security_code):\n",
        "      self.security_code = security_code\n",
        "\n",
        "\n",
        "    def pay(self, order):\n",
        "      print(\"Processing credit payment type\")\n",
        "      print(f\"Verifying security code: {self.security_code}\")\n",
        "      order.status = \"paid\"\n",
        "\n",
        "\n",
        "class PaypalPaymentProcessor(PaymentProcessor):\n",
        "    def __init__(self, email_address):\n",
        "      self.email_address = email_address\n",
        "\n",
        "    def pay(self, order):\n",
        "      print(\"Processing paypal payment type\")\n",
        "      print(f\"Verifying email address: {self.email_address}\")\n",
        "      order.status = \"paid\"\n",
        "\n",
        "\n",
        "order = Order()\n",
        "order.add_item(\"Keyboard\", 1, 50)\n",
        "order.add_item(\"SSD\", 1, 150)\n",
        "order.add_item(\"USB cable\", 2, 5)\n",
        "\n",
        "print(order.total_price())\n",
        "processor = PaypalPaymentProcessor(\"some-email@gmail.com\")\n",
        "processor.pay(order)"
      ],
      "metadata": {
        "colab": {
          "base_uri": "https://localhost:8080/"
        },
        "id": "XBZGDZ50DMAS",
        "outputId": "96f0f320-06b5-46a8-f010-3d1b759662ad"
      },
      "execution_count": 20,
      "outputs": [
        {
          "output_type": "stream",
          "name": "stdout",
          "text": [
            "210\n",
            "Processing paypal payment type\n",
            "Verifying email address: some-email@gmail.com\n"
          ]
        }
      ]
    },
    {
      "cell_type": "markdown",
      "source": [
        "## Interface segregation - Before"
      ],
      "metadata": {
        "id": "-7po1Ew1ISrJ"
      }
    },
    {
      "cell_type": "code",
      "source": [
        "from abc import ABC, abstractmethod\n",
        "\n",
        "class Order:\n",
        "\n",
        "    def __init__(self):\n",
        "        self.items = []\n",
        "        self.quantities = []\n",
        "        self.prices = []\n",
        "        self.status = \"open\"\n",
        "\n",
        "    def add_item(self, name, quantity, price):\n",
        "        self.items.append(name)\n",
        "        self.quantities.append(quantity)\n",
        "        self.prices.append(price)\n",
        "\n",
        "    def total_price(self):\n",
        "        total = 0\n",
        "        for i in range(len(self.prices)):\n",
        "            total += self.quantities[i] * self.prices[i]\n",
        "        return total\n",
        "\n",
        "\n",
        "class PaymentProcessor(ABC):\n",
        "\n",
        "    @abstractmethod\n",
        "    def auth_sms(self, code):\n",
        "        pass\n",
        "\n",
        "    @abstractmethod\n",
        "    def pay(self, order):\n",
        "        pass\n",
        "\n",
        "class DebitPaymentProcessor(PaymentProcessor):\n",
        "\n",
        "    def __init__(self, security_code):\n",
        "        self.security_code = security_code\n",
        "        self.verified = False\n",
        "\n",
        "    def auth_sms(self, code):\n",
        "        print(f\"Verifying SMS code {code}\")\n",
        "        self.verified = True\n",
        "    \n",
        "    def pay(self, order):\n",
        "        if not self.verified:\n",
        "            raise Exception(\"Not authorized\")\n",
        "        print(\"Processing debit payment type\")\n",
        "        print(f\"Verifying security code: {self.security_code}\")\n",
        "        order.status = \"paid\"\n",
        "\n",
        "class CreditPaymentProcessor(PaymentProcessor):\n",
        "\n",
        "    def __init__(self, security_code):\n",
        "        self.security_code = security_code\n",
        "\n",
        "    def auth_sms(self, code):\n",
        "        raise Exception(\"Credit card payments don't support SMS code authorization.\")\n",
        "\n",
        "    def pay(self, order):\n",
        "        print(\"Processing credit payment type\")\n",
        "        print(f\"Verifying security code: {self.security_code}\")\n",
        "        order.status = \"paid\"\n",
        "\n",
        "class PaypalPaymentProcessor(PaymentProcessor):\n",
        "\n",
        "    def __init__(self, email_address):\n",
        "        self.email_address = email_address\n",
        "        self.verified = False\n",
        "\n",
        "    def auth_sms(self, code):\n",
        "        print(f\"Verifying SMS code {code}\")\n",
        "        self.verified = True\n",
        "\n",
        "    def pay(self, order):\n",
        "        if not self.verified:\n",
        "            raise Exception(\"Not authorized\")\n",
        "        print(\"Processing paypal payment type\")\n",
        "        print(f\"Using email address: {self.email_address}\")\n",
        "        order.status = \"paid\"\n",
        "\n",
        "\n",
        "order = Order()\n",
        "order.add_item(\"Keyboard\", 1, 50)\n",
        "order.add_item(\"SSD\", 1, 150)\n",
        "order.add_item(\"USB cable\", 2, 5)\n",
        "\n",
        "print(order.total_price())\n",
        "processor = DebitPaymentProcessor(\"2349875\")\n",
        "processor.auth_sms(465839)\n",
        "processor.pay(order)"
      ],
      "metadata": {
        "colab": {
          "base_uri": "https://localhost:8080/"
        },
        "id": "AQYC7XhtLmGU",
        "outputId": "3c2d7b79-8c51-4771-c744-471e607ab052"
      },
      "execution_count": 29,
      "outputs": [
        {
          "output_type": "stream",
          "name": "stdout",
          "text": [
            "210\n",
            "Verifying SMS code 465839\n",
            "Processing debit payment type\n",
            "Verifying security code: 2349875\n"
          ]
        }
      ]
    },
    {
      "cell_type": "markdown",
      "source": [
        "## Interface segregation - After"
      ],
      "metadata": {
        "id": "kjbdKy2wL0Tg"
      }
    },
    {
      "cell_type": "code",
      "source": [
        "from abc import ABC, abstractmethod\n",
        "\n",
        "class Order:\n",
        "\n",
        "    def __init__(self):\n",
        "        self.items = []\n",
        "        self.quantities = []\n",
        "        self.prices = []\n",
        "        self.status = \"open\"\n",
        "\n",
        "    def add_item(self, name, quantity, price):\n",
        "        self.items.append(name)\n",
        "        self.quantities.append(quantity)\n",
        "        self.prices.append(price)\n",
        "\n",
        "    def total_price(self):\n",
        "        total = 0\n",
        "        for i in range(len(self.prices)):\n",
        "            total += self.quantities[i] * self.prices[i]\n",
        "        return total\n",
        "\n",
        "class SMSAuthorizer:\n",
        "\n",
        "    def __init__(self):\n",
        "        self.authorized = False\n",
        "\n",
        "    def verify_code(self, code):\n",
        "        print(f\"Verifying SMS code {code}\")\n",
        "        self.authorized = True\n",
        "\n",
        "    def is_authorized(self) -> bool:\n",
        "        return self.authorized\n",
        "\n",
        "\n",
        "class PaymentProcessor(ABC):\n",
        "\n",
        "    @abstractmethod\n",
        "    def pay(self, order):\n",
        "        pass\n",
        "\n",
        "\n",
        "class DebitPaymentProcessor(PaymentProcessor):\n",
        "\n",
        "    def __init__(self, security_code, authorizer: SMSAuthorizer):\n",
        "        self.security_code = security_code\n",
        "        self.authorizer = authorizer\n",
        "    \n",
        "    def pay(self, order):\n",
        "        #if not self.authorizer.is_authorized():\n",
        "            #raise Exception(\"Not authorized\")\n",
        "        print(\"Processing debit payment type\")\n",
        "        print(f\"Verifying security code: {self.security_code}\")\n",
        "        order.status = \"paid\"\n",
        "\n",
        "class CreditPaymentProcessor(PaymentProcessor):\n",
        "\n",
        "    def __init__(self, security_code):\n",
        "        self.security_code = security_code\n",
        "\n",
        "    def pay(self, order):\n",
        "        print(\"Processing credit payment type\")\n",
        "        print(f\"Verifying security code: {self.security_code}\")\n",
        "        order.status = \"paid\"\n",
        "\n",
        "class PaypalPaymentProcessor(PaymentProcessor):\n",
        "\n",
        "    def __init__(self, email_address, authorizer: SMSAuthorizer):\n",
        "        self.email_address = email_address\n",
        "        self.authorizer = authorizer\n",
        "\n",
        "    def pay(self, order):\n",
        "        if not self.authorizer.is_authorized():\n",
        "          raise Exception(\"Not authorized\")\n",
        "        print(\"Processing paypal payment type\")\n",
        "        print(f\"Using email address: {self.email_address}\")\n",
        "        order.status = \"paid\"\n",
        "\n",
        "\n",
        "order = Order()\n",
        "order.add_item(\"Keyboard\", 1, 50)\n",
        "order.add_item(\"SSD\", 1, 150)\n",
        "order.add_item(\"USB cable\", 2, 5)\n",
        "\n",
        "print(order.total_price())\n",
        "authorizer = SMSAuthorizer()\n",
        "# authorizer.verify_code(465839)\n",
        "processor = DebitPaymentProcessor(\"454548645\", authorizer)\n",
        "processor.pay(order)"
      ],
      "metadata": {
        "colab": {
          "base_uri": "https://localhost:8080/"
        },
        "id": "hm2l7V1qRo6f",
        "outputId": "65621e49-2e82-4c72-8784-22de618a07f1"
      },
      "execution_count": 44,
      "outputs": [
        {
          "output_type": "stream",
          "name": "stdout",
          "text": [
            "210\n",
            "Processing debit payment type\n",
            "Verifying security code: 454548645\n"
          ]
        }
      ]
    },
    {
      "cell_type": "markdown",
      "source": [
        "## Dependency inversion - before"
      ],
      "metadata": {
        "id": "DQtdlic1TeYF"
      }
    },
    {
      "cell_type": "code",
      "source": [
        "from abc import ABC, abstractmethod\n",
        "\n",
        "class Order:\n",
        "\n",
        "    def __init__(self):\n",
        "        self.items = []\n",
        "        self.quantities = []\n",
        "        self.prices = []\n",
        "        self.status = \"open\"\n",
        "\n",
        "    def add_item(self, name, quantity, price):\n",
        "        self.items.append(name)\n",
        "        self.quantities.append(quantity)\n",
        "        self.prices.append(price)\n",
        "\n",
        "    def total_price(self):\n",
        "        total = 0\n",
        "        for i in range(len(self.prices)):\n",
        "            total += self.quantities[i] * self.prices[i]\n",
        "        return total\n",
        "\n",
        "class SMSAuthorizer:\n",
        "\n",
        "    def __init__(self):\n",
        "        self.authorized = False\n",
        "\n",
        "    def verify_code(self, code):\n",
        "        print(f\"Verifying SMS code {code}\")\n",
        "        self.authorized = True\n",
        "\n",
        "    def is_authorized(self) -> bool:\n",
        "        return self.authorized\n",
        "\n",
        "\n",
        "class PaymentProcessor(ABC):\n",
        "\n",
        "    @abstractmethod\n",
        "    def pay(self, order):\n",
        "        pass\n",
        "\n",
        "\n",
        "class DebitPaymentProcessor(PaymentProcessor):\n",
        "\n",
        "    def __init__(self, security_code, authorizer: SMSAuthorizer):\n",
        "        self.security_code = security_code\n",
        "        self.authorizer = authorizer\n",
        "    \n",
        "    def pay(self, order):\n",
        "        #if not self.authorizer.is_authorized():\n",
        "            #raise Exception(\"Not authorized\")\n",
        "        print(\"Processing debit payment type\")\n",
        "        print(f\"Verifying security code: {self.security_code}\")\n",
        "        order.status = \"paid\"\n",
        "\n",
        "class CreditPaymentProcessor(PaymentProcessor):\n",
        "\n",
        "    def __init__(self, security_code):\n",
        "        self.security_code = security_code\n",
        "\n",
        "    def pay(self, order):\n",
        "        print(\"Processing credit payment type\")\n",
        "        print(f\"Verifying security code: {self.security_code}\")\n",
        "        order.status = \"paid\"\n",
        "\n",
        "class PaypalPaymentProcessor(PaymentProcessor):\n",
        "\n",
        "    def __init__(self, email_address, authorizer: SMSAuthorizer):\n",
        "        self.email_address = email_address\n",
        "        self.authorizer = authorizer\n",
        "\n",
        "    def pay(self, order):\n",
        "        if not self.authorizer.is_authorized():\n",
        "          raise Exception(\"Not authorized\")\n",
        "        print(\"Processing paypal payment type\")\n",
        "        print(f\"Using email address: {self.email_address}\")\n",
        "        order.status = \"paid\"\n",
        "\n",
        "\n",
        "order = Order()\n",
        "order.add_item(\"Keyboard\", 1, 50)\n",
        "order.add_item(\"SSD\", 1, 150)\n",
        "order.add_item(\"USB cable\", 2, 5)\n",
        "\n",
        "print(order.total_price())\n",
        "authorizer = SMSAuthorizer()\n",
        "# authorizer.verify_code(465839)\n",
        "processor = DebitPaymentProcessor(\"454548645\", authorizer)\n",
        "processor.pay(order)"
      ],
      "metadata": {
        "colab": {
          "base_uri": "https://localhost:8080/"
        },
        "id": "Fi5ccIUyTksY",
        "outputId": "34a10348-b741-4f95-b62d-eb701bb64464"
      },
      "execution_count": 45,
      "outputs": [
        {
          "output_type": "stream",
          "name": "stdout",
          "text": [
            "210\n",
            "Processing debit payment type\n",
            "Verifying security code: 454548645\n"
          ]
        }
      ]
    },
    {
      "cell_type": "markdown",
      "source": [
        "## Dependency inversion - after"
      ],
      "metadata": {
        "id": "6a1UQBgLUWke"
      }
    },
    {
      "cell_type": "code",
      "source": [
        "from abc import ABC, abstractmethod\n",
        "\n",
        "class Order:\n",
        "\n",
        "    def __init__(self):\n",
        "        self.items = []\n",
        "        self.quantities = []\n",
        "        self.prices = []\n",
        "        self.status = \"open\"\n",
        "\n",
        "    def add_item(self, name, quantity, price):\n",
        "        self.items.append(name)\n",
        "        self.quantities.append(quantity)\n",
        "        self.prices.append(price)\n",
        "\n",
        "    def total_price(self):\n",
        "        total = 0\n",
        "        for i in range(len(self.prices)):\n",
        "            total += self.quantities[i] * self.prices[i]\n",
        "        return total\n",
        "\n",
        "class Authorizer(ABC):\n",
        "    @abstractmethod\n",
        "    def is_authorized(self) -> bool:\n",
        "        pass\n",
        "\n",
        "\n",
        "class SMSAuthorizer(Authorizer):\n",
        "\n",
        "    def __init__(self):\n",
        "        self.authorized = False\n",
        "\n",
        "    def verify_code(self, code):\n",
        "        print(f\"Verifying SMS code {code}\")\n",
        "        self.authorized = True\n",
        "\n",
        "    def is_authorized(self) -> bool:\n",
        "        return self.authorized\n",
        "\n",
        "\n",
        "class NotARobot(Authorizer):\n",
        "\n",
        "    def __init__(self):\n",
        "        self.authorized = False\n",
        "\n",
        "    def not_a_robot(self):\n",
        "        self.authorized = True\n",
        "\n",
        "    def is_authorized(self) -> bool:\n",
        "        return self.authorized\n",
        "\n",
        "\n",
        "class PaymentProcessor(ABC):\n",
        "\n",
        "    @abstractmethod\n",
        "    def pay(self, order):\n",
        "        pass\n",
        "\n",
        "\n",
        "class DebitPaymentProcessor(PaymentProcessor):\n",
        "\n",
        "    def __init__(self, security_code, authorizer: Authorizer):\n",
        "        self.security_code = security_code\n",
        "        self.authorizer = authorizer\n",
        "    \n",
        "    def pay(self, order):\n",
        "        #if not self.authorizer.is_authorized():\n",
        "            #raise Exception(\"Not authorized\")\n",
        "        print(\"Processing debit payment type\")\n",
        "        print(f\"Verifying security code: {self.security_code}\")\n",
        "        order.status = \"paid\"\n",
        "\n",
        "class CreditPaymentProcessor(PaymentProcessor):\n",
        "\n",
        "    def __init__(self, security_code):\n",
        "        self.security_code = security_code\n",
        "\n",
        "    def pay(self, order):\n",
        "        print(\"Processing credit payment type\")\n",
        "        print(f\"Verifying security code: {self.security_code}\")\n",
        "        order.status = \"paid\"\n",
        "\n",
        "class PaypalPaymentProcessor(PaymentProcessor):\n",
        "\n",
        "    def __init__(self, email_address, authorizer: Authorizer):\n",
        "        self.email_address = email_address\n",
        "        self.authorizer = authorizer\n",
        "\n",
        "    def pay(self, order):\n",
        "        if not self.authorizer.is_authorized():\n",
        "          raise Exception(\"Not authorized\")\n",
        "        print(\"Processing paypal payment type\")\n",
        "        print(f\"Using email address: {self.email_address}\")\n",
        "        order.status = \"paid\"\n",
        "\n",
        "\n",
        "order = Order()\n",
        "order.add_item(\"Keyboard\", 1, 50)\n",
        "order.add_item(\"SSD\", 1, 150)\n",
        "order.add_item(\"USB cable\", 2, 5)\n",
        "\n",
        "print(order.total_price())\n",
        "authorizer = NotARobot()\n",
        "# authorizer.verify_code(465839)\n",
        "processor = DebitPaymentProcessor(\"454548645\", authorizer)\n",
        "authorizer.not_a_robot()\n",
        "processor.pay(order)"
      ],
      "metadata": {
        "colab": {
          "base_uri": "https://localhost:8080/"
        },
        "id": "COt-iNWlUbqd",
        "outputId": "b0ed20f1-2e61-4c75-bd8b-61b51ae2f7d9"
      },
      "execution_count": 56,
      "outputs": [
        {
          "output_type": "stream",
          "name": "stdout",
          "text": [
            "210\n",
            "Processing debit payment type\n",
            "Verifying security code: 454548645\n"
          ]
        }
      ]
    }
  ]
}